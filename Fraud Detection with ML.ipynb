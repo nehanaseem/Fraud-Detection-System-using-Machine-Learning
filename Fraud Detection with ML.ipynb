{
 "cells": [
  {
   "cell_type": "markdown",
   "id": "b5f2b29f",
   "metadata": {},
   "source": [
    "# Data Understanding and Preprocessing"
   ]
  },
  {
   "cell_type": "markdown",
   "id": "c0db6f82",
   "metadata": {},
   "source": [
    "# data exploration"
   ]
  },
  {
   "cell_type": "code",
   "execution_count": 2,
   "id": "f1841a57",
   "metadata": {},
   "outputs": [
    {
     "data": {
      "text/html": [
       "<div>\n",
       "<style scoped>\n",
       "    .dataframe tbody tr th:only-of-type {\n",
       "        vertical-align: middle;\n",
       "    }\n",
       "\n",
       "    .dataframe tbody tr th {\n",
       "        vertical-align: top;\n",
       "    }\n",
       "\n",
       "    .dataframe thead th {\n",
       "        text-align: right;\n",
       "    }\n",
       "</style>\n",
       "<table border=\"1\" class=\"dataframe\">\n",
       "  <thead>\n",
       "    <tr style=\"text-align: right;\">\n",
       "      <th></th>\n",
       "      <th>Transaction ID</th>\n",
       "      <th>Customer ID</th>\n",
       "      <th>Transaction Date</th>\n",
       "      <th>Transaction Amount</th>\n",
       "      <th>Merchant</th>\n",
       "      <th>Location</th>\n",
       "      <th>Transaction Type</th>\n",
       "      <th>Card Type</th>\n",
       "      <th>Is Fraudulent</th>\n",
       "    </tr>\n",
       "  </thead>\n",
       "  <tbody>\n",
       "    <tr>\n",
       "      <th>0</th>\n",
       "      <td>90023589-2ef8-43e7-807a-b4ab92fcc2a4</td>\n",
       "      <td>5d7358c2-ede9-488a-96e4-fa78a9d9d6db</td>\n",
       "      <td>2024-03-05 15:53:49</td>\n",
       "      <td>231.55</td>\n",
       "      <td>Torres-Sanchez</td>\n",
       "      <td>West Adam</td>\n",
       "      <td>Online Purchase</td>\n",
       "      <td>MasterCard</td>\n",
       "      <td>Yes</td>\n",
       "    </tr>\n",
       "    <tr>\n",
       "      <th>1</th>\n",
       "      <td>3eb2e762-9525-4c33-a022-a47e3da3ec5d</td>\n",
       "      <td>0aac2ab4-f920-428a-939a-78ff9858c13d</td>\n",
       "      <td>2024-07-04 01:00:25</td>\n",
       "      <td>1485.69</td>\n",
       "      <td>Brandt, Ross and Butler</td>\n",
       "      <td>New Benjaminbury</td>\n",
       "      <td>In-Store Purchase</td>\n",
       "      <td>Discover</td>\n",
       "      <td>Yes</td>\n",
       "    </tr>\n",
       "    <tr>\n",
       "      <th>2</th>\n",
       "      <td>12d58e99-92d7-46f3-8ac0-e01ac86c15ec</td>\n",
       "      <td>4d6ee059-5df1-4323-8484-2f04aae3d6b3</td>\n",
       "      <td>2024-01-14 00:18:53</td>\n",
       "      <td>497.33</td>\n",
       "      <td>Delgado LLC</td>\n",
       "      <td>Lake Jamieberg</td>\n",
       "      <td>ATM Withdrawal</td>\n",
       "      <td>Amex</td>\n",
       "      <td>Yes</td>\n",
       "    </tr>\n",
       "    <tr>\n",
       "      <th>3</th>\n",
       "      <td>e9cac917-d336-4629-9baa-f8c19691cb80</td>\n",
       "      <td>d7709d08-fa3c-419c-b2fb-bc9ef2997ef9</td>\n",
       "      <td>2023-12-09 03:06:54</td>\n",
       "      <td>287.68</td>\n",
       "      <td>Smith, Mcdonald and Cruz</td>\n",
       "      <td>Lake James</td>\n",
       "      <td>In-Store Purchase</td>\n",
       "      <td>Visa</td>\n",
       "      <td>Yes</td>\n",
       "    </tr>\n",
       "    <tr>\n",
       "      <th>4</th>\n",
       "      <td>acb39efa-d3c7-4bae-9b6c-9cda5ed79503</td>\n",
       "      <td>e505e3e6-7982-4c7f-b0b1-26a0b6d59d31</td>\n",
       "      <td>2024-02-17 03:22:55</td>\n",
       "      <td>213.97</td>\n",
       "      <td>Huff Ltd</td>\n",
       "      <td>Lake Anthony</td>\n",
       "      <td>In-Store Purchase</td>\n",
       "      <td>Discover</td>\n",
       "      <td>No</td>\n",
       "    </tr>\n",
       "  </tbody>\n",
       "</table>\n",
       "</div>"
      ],
      "text/plain": [
       "                         Transaction ID                           Customer ID  \\\n",
       "0  90023589-2ef8-43e7-807a-b4ab92fcc2a4  5d7358c2-ede9-488a-96e4-fa78a9d9d6db   \n",
       "1  3eb2e762-9525-4c33-a022-a47e3da3ec5d  0aac2ab4-f920-428a-939a-78ff9858c13d   \n",
       "2  12d58e99-92d7-46f3-8ac0-e01ac86c15ec  4d6ee059-5df1-4323-8484-2f04aae3d6b3   \n",
       "3  e9cac917-d336-4629-9baa-f8c19691cb80  d7709d08-fa3c-419c-b2fb-bc9ef2997ef9   \n",
       "4  acb39efa-d3c7-4bae-9b6c-9cda5ed79503  e505e3e6-7982-4c7f-b0b1-26a0b6d59d31   \n",
       "\n",
       "      Transaction Date  Transaction Amount                  Merchant  \\\n",
       "0  2024-03-05 15:53:49              231.55            Torres-Sanchez   \n",
       "1  2024-07-04 01:00:25             1485.69   Brandt, Ross and Butler   \n",
       "2  2024-01-14 00:18:53              497.33               Delgado LLC   \n",
       "3  2023-12-09 03:06:54              287.68  Smith, Mcdonald and Cruz   \n",
       "4  2024-02-17 03:22:55              213.97                  Huff Ltd   \n",
       "\n",
       "           Location   Transaction Type   Card Type Is Fraudulent  \n",
       "0         West Adam    Online Purchase  MasterCard           Yes  \n",
       "1  New Benjaminbury  In-Store Purchase    Discover           Yes  \n",
       "2    Lake Jamieberg     ATM Withdrawal        Amex           Yes  \n",
       "3        Lake James  In-Store Purchase        Visa           Yes  \n",
       "4      Lake Anthony  In-Store Purchase    Discover            No  "
      ]
     },
     "execution_count": 2,
     "metadata": {},
     "output_type": "execute_result"
    }
   ],
   "source": [
    "import pandas as pd\n",
    "\n",
    "# Load the dataset to analyze its contents\n",
    "dataset = pd.read_csv('fraud_detection_data.csv')\n",
    "\n",
    "# Display the first few rows of the dataset for analysis\n",
    "dataset.head()\n"
   ]
  },
  {
   "cell_type": "code",
   "execution_count": 3,
   "id": "65e4b482",
   "metadata": {},
   "outputs": [
    {
     "data": {
      "text/plain": [
       "{'shape': (363, 9),\n",
       " 'columns': ['Transaction ID',\n",
       "  'Customer ID',\n",
       "  'Transaction Date',\n",
       "  'Transaction Amount',\n",
       "  'Merchant',\n",
       "  'Location',\n",
       "  'Transaction Type',\n",
       "  'Card Type',\n",
       "  'Is Fraudulent'],\n",
       " 'sample_data':                          Transaction ID                           Customer ID  \\\n",
       " 0  90023589-2ef8-43e7-807a-b4ab92fcc2a4  5d7358c2-ede9-488a-96e4-fa78a9d9d6db   \n",
       " 1  3eb2e762-9525-4c33-a022-a47e3da3ec5d  0aac2ab4-f920-428a-939a-78ff9858c13d   \n",
       " 2  12d58e99-92d7-46f3-8ac0-e01ac86c15ec  4d6ee059-5df1-4323-8484-2f04aae3d6b3   \n",
       " 3  e9cac917-d336-4629-9baa-f8c19691cb80  d7709d08-fa3c-419c-b2fb-bc9ef2997ef9   \n",
       " 4  acb39efa-d3c7-4bae-9b6c-9cda5ed79503  e505e3e6-7982-4c7f-b0b1-26a0b6d59d31   \n",
       " \n",
       "       Transaction Date  Transaction Amount                  Merchant  \\\n",
       " 0  2024-03-05 15:53:49              231.55            Torres-Sanchez   \n",
       " 1  2024-07-04 01:00:25             1485.69   Brandt, Ross and Butler   \n",
       " 2  2024-01-14 00:18:53              497.33               Delgado LLC   \n",
       " 3  2023-12-09 03:06:54              287.68  Smith, Mcdonald and Cruz   \n",
       " 4  2024-02-17 03:22:55              213.97                  Huff Ltd   \n",
       " \n",
       "            Location   Transaction Type   Card Type Is Fraudulent  \n",
       " 0         West Adam    Online Purchase  MasterCard           Yes  \n",
       " 1  New Benjaminbury  In-Store Purchase    Discover           Yes  \n",
       " 2    Lake Jamieberg     ATM Withdrawal        Amex           Yes  \n",
       " 3        Lake James  In-Store Purchase        Visa           Yes  \n",
       " 4      Lake Anthony  In-Store Purchase    Discover            No  }"
      ]
     },
     "execution_count": 3,
     "metadata": {},
     "output_type": "execute_result"
    }
   ],
   "source": [
    "# Display basic information about the dataset\n",
    "data_info = {\n",
    "    \"shape\": dataset.shape,\n",
    "    \"columns\": dataset.columns.tolist(),\n",
    "    \"sample_data\": dataset.head()\n",
    "}\n",
    "\n",
    "data_info"
   ]
  },
  {
   "cell_type": "code",
   "execution_count": 4,
   "id": "b47344ba",
   "metadata": {},
   "outputs": [],
   "source": [
    "import warnings\n",
    "warnings.filterwarnings('ignore')\n",
    "warnings.filterwarnings('ignore', category=DeprecationWarning)\n"
   ]
  },
  {
   "cell_type": "code",
   "execution_count": 5,
   "id": "4e5e56e7",
   "metadata": {},
   "outputs": [
    {
     "name": "stdout",
     "output_type": "stream",
     "text": [
      "Yes    183\n",
      "No     180\n",
      "Name: Is Fraudulent, dtype: int64\n"
     ]
    }
   ],
   "source": [
    "# Check the distribution of fraudulent vs. legitimate transactions\n",
    "fraud_distribution = dataset['Is Fraudulent'].value_counts()\n",
    "print(fraud_distribution)"
   ]
  },
  {
   "cell_type": "markdown",
   "id": "a707e016",
   "metadata": {},
   "source": [
    "# Handle any missing or inconsistent data"
   ]
  },
  {
   "cell_type": "code",
   "execution_count": 6,
   "id": "9e224724",
   "metadata": {},
   "outputs": [
    {
     "name": "stdout",
     "output_type": "stream",
     "text": [
      "Transaction ID        0\n",
      "Customer ID           0\n",
      "Transaction Date      0\n",
      "Transaction Amount    0\n",
      "Merchant              0\n",
      "Location              0\n",
      "Transaction Type      0\n",
      "Card Type             0\n",
      "Is Fraudulent         0\n",
      "dtype: int64\n"
     ]
    }
   ],
   "source": [
    "import warnings\n",
    "# Check for missing or inconsistent data\n",
    "missing_data = dataset.isnull().sum()\n",
    "print(missing_data)\n",
    "\n",
    "# Handling missing data (example: filling missing values with median)\n",
    "dataset.fillna(dataset.median(), inplace=True)\n",
    "warnings.filterwarnings('ignore')\n",
    "warnings.filterwarnings('ignore', category=DeprecationWarning)"
   ]
  },
  {
   "cell_type": "code",
   "execution_count": 7,
   "id": "6a94c97e",
   "metadata": {},
   "outputs": [
    {
     "data": {
      "image/png": "[encoded data removed]",
      "text/plain": [
       "<Figure size 864x432 with 1 Axes>"
      ]
     },
     "metadata": {},
     "output_type": "display_data"
    },
    {
     "data": {
      "text/plain": [
       "(       Transaction Amount\n",
       " count          363.000000\n",
       " mean           977.349972\n",
       " std            581.386431\n",
       " min             14.290000\n",
       " 25%            476.700000\n",
       " 50%            992.100000\n",
       " 75%           1469.630000\n",
       " max           1994.680000,\n",
       " Transaction ID        0\n",
       " Customer ID           0\n",
       " Transaction Date      0\n",
       " Transaction Amount    0\n",
       " Merchant              0\n",
       " Location              0\n",
       " Transaction Type      0\n",
       " Card Type             0\n",
       " Is Fraudulent         0\n",
       " dtype: int64)"
      ]
     },
     "execution_count": 7,
     "metadata": {},
     "output_type": "execute_result"
    }
   ],
   "source": [
    "import matplotlib.pyplot as plt\n",
    "import seaborn as sns\n",
    "\n",
    "# Set up visualization style\n",
    "sns.set(style=\"whitegrid\")\n",
    "\n",
    "# Summary statistics for numerical columns\n",
    "numeric_summary = dataset.describe()\n",
    "\n",
    "# Check for missing values in each column\n",
    "missing_values = dataset.isnull().sum()\n",
    "\n",
    "# Plotting distributions of Transaction Amount for Fraudulent and Non-Fraudulent Transactions\n",
    "plt.figure(figsize=(12, 6))\n",
    "sns.histplot(data=dataset, x=\"Transaction Amount\", hue=\"Is Fraudulent\", kde=True, element=\"step\", bins=30)\n",
    "plt.title(\"Distribution of Transaction Amount by Fraudulent Status\")\n",
    "plt.xlabel(\"Transaction Amount\")\n",
    "plt.ylabel(\"Frequency\")\n",
    "plt.show()\n",
    "\n",
    "# Displaying results\n",
    "numeric_summary, missing_values"
   ]
  },
  {
   "cell_type": "code",
   "execution_count": 8,
   "id": "9b19d6b1",
   "metadata": {},
   "outputs": [
    {
     "data": {
      "image/png": "[encoded data removed]",
      "text/plain": [
       "<Figure size 720x360 with 1 Axes>"
      ]
     },
     "metadata": {},
     "output_type": "display_data"
    },
    {
     "data": {
      "image/png": "[encoded data removed]",
      "text/plain": [
       "<Figure size 720x360 with 1 Axes>"
      ]
     },
     "metadata": {},
     "output_type": "display_data"
    }
   ],
   "source": [
    "# Count plot for Transaction Type by Fraudulent Status\n",
    "plt.figure(figsize=(10, 5))\n",
    "sns.countplot(data=dataset, x=\"Transaction Type\", hue=\"Is Fraudulent\")\n",
    "plt.title(\"Transaction Type by Fraudulent Status\")\n",
    "plt.xlabel(\"Transaction Type\")\n",
    "plt.ylabel(\"Count\")\n",
    "plt.show()\n",
    "\n",
    "# Count plot for Card Type by Fraudulent Status\n",
    "plt.figure(figsize=(10, 5))\n",
    "sns.countplot(data=dataset, x=\"Card Type\", hue=\"Is Fraudulent\")\n",
    "plt.title(\"Card Type by Fraudulent Status\")\n",
    "plt.xlabel(\"Card Type\")\n",
    "plt.ylabel(\"Count\")\n",
    "plt.show()"
   ]
  },
  {
   "cell_type": "markdown",
   "id": "975fa085",
   "metadata": {},
   "source": [
    "# Convert categorical variables into numerical representations"
   ]
  },
  {
   "cell_type": "code",
   "execution_count": 9,
   "id": "51a26481",
   "metadata": {},
   "outputs": [
    {
     "name": "stdout",
     "output_type": "stream",
     "text": [
      "                         Transaction ID                           Customer ID  \\\n",
      "0  90023589-2ef8-43e7-807a-b4ab92fcc2a4  5d7358c2-ede9-488a-96e4-fa78a9d9d6db   \n",
      "1  3eb2e762-9525-4c33-a022-a47e3da3ec5d  0aac2ab4-f920-428a-939a-78ff9858c13d   \n",
      "2  12d58e99-92d7-46f3-8ac0-e01ac86c15ec  4d6ee059-5df1-4323-8484-2f04aae3d6b3   \n",
      "3  e9cac917-d336-4629-9baa-f8c19691cb80  d7709d08-fa3c-419c-b2fb-bc9ef2997ef9   \n",
      "4  acb39efa-d3c7-4bae-9b6c-9cda5ed79503  e505e3e6-7982-4c7f-b0b1-26a0b6d59d31   \n",
      "\n",
      "      Transaction Date  Transaction Amount Is Fraudulent  \\\n",
      "0  2024-03-05 15:53:49              231.55           Yes   \n",
      "1  2024-07-04 01:00:25             1485.69           Yes   \n",
      "2  2024-01-14 00:18:53              497.33           Yes   \n",
      "3  2023-12-09 03:06:54              287.68           Yes   \n",
      "4  2024-02-17 03:22:55              213.97            No   \n",
      "\n",
      "   Merchant_Adams-Gutierrez  Merchant_Adkins, Figueroa and Parker  \\\n",
      "0                         0                                     0   \n",
      "1                         0                                     0   \n",
      "2                         0                                     0   \n",
      "3                         0                                     0   \n",
      "4                         0                                     0   \n",
      "\n",
      "   Merchant_Allen Ltd  Merchant_Allen, Dean and Cortez  \\\n",
      "0                   0                                0   \n",
      "1                   0                                0   \n",
      "2                   0                                0   \n",
      "3                   0                                0   \n",
      "4                   0                                0   \n",
      "\n",
      "   Merchant_Anderson Group  ...  Location_West Sheri  Location_Williamsland  \\\n",
      "0                        0  ...                    0                      0   \n",
      "1                        0  ...                    0                      0   \n",
      "2                        0  ...                    0                      0   \n",
      "3                        0  ...                    0                      0   \n",
      "4                        0  ...                    0                      0   \n",
      "\n",
      "   Location_Williamsville  Location_Wrightmouth  Location_Youngfurt  \\\n",
      "0                       0                     0                   0   \n",
      "1                       0                     0                   0   \n",
      "2                       0                     0                   0   \n",
      "3                       0                     0                   0   \n",
      "4                       0                     0                   0   \n",
      "\n",
      "   Transaction Type_In-Store Purchase  Transaction Type_Online Purchase  \\\n",
      "0                                   0                                 1   \n",
      "1                                   1                                 0   \n",
      "2                                   0                                 0   \n",
      "3                                   1                                 0   \n",
      "4                                   1                                 0   \n",
      "\n",
      "   Card Type_Discover  Card Type_MasterCard  Card Type_Visa  \n",
      "0                   0                     1               0  \n",
      "1                   1                     0               0  \n",
      "2                   0                     0               0  \n",
      "3                   0                     0               1  \n",
      "4                   1                     0               0  \n",
      "\n",
      "[5 rows x 724 columns]\n"
     ]
    }
   ],
   "source": [
    "# Convert categorical columns to numerical using one-hot encoding\n",
    "dataset_encoded = pd.get_dummies(dataset, columns=['Merchant', 'Location', 'Transaction Type', 'Card Type'], drop_first=True)\n",
    "\n",
    "# Display the first few rows of the newly encoded dataset\n",
    "print(dataset_encoded.head())\n"
   ]
  },
  {
   "cell_type": "markdown",
   "id": "743eafe3",
   "metadata": {},
   "source": [
    "# Balance the dataset"
   ]
  },
  {
   "cell_type": "code",
   "execution_count": 10,
   "id": "74257b8a",
   "metadata": {},
   "outputs": [
    {
     "name": "stdout",
     "output_type": "stream",
     "text": [
      "Non-numeric columns: Index(['Transaction ID', 'Customer ID', 'Transaction Date'], dtype='object')\n",
      "1    183\n",
      "0    183\n",
      "Name: Is Fraudulent, dtype: int64\n"
     ]
    }
   ],
   "source": [
    "# Import SMOTE\n",
    "from imblearn.over_sampling import SMOTE\n",
    "from sklearn.preprocessing import LabelEncoder\n",
    "import pandas as pd\n",
    "\n",
    "# Assume dataset_encoded is already defined\n",
    "\n",
    "# Separate the features and the target variable\n",
    "X = dataset_encoded.drop('Is Fraudulent', axis=1)\n",
    "y = dataset_encoded['Is Fraudulent'].apply(lambda x: 1 if x == 'Yes' else 0)  # Convert 'Yes' to 1 and 'No' to 0\n",
    "\n",
    "# Identify columns with non-numeric values\n",
    "non_numeric_cols = X.select_dtypes(include=['object']).columns\n",
    "print(\"Non-numeric columns:\", non_numeric_cols)\n",
    "\n",
    "# Apply Label Encoding to 'Transaction ID' and 'Customer ID'\n",
    "label_encoders = {}\n",
    "for col in ['Transaction ID', 'Customer ID']:\n",
    "    le = LabelEncoder()\n",
    "    X[col] = le.fit_transform(X[col])\n",
    "    label_encoders[col] = le  # Save the encoder for later use\n",
    "\n",
    "# Convert 'Transaction Date' to numerical format (e.g., Unix timestamp or extract features like year/month)\n",
    "X['Transaction Date'] = pd.to_datetime(X['Transaction Date'])\n",
    "X['Transaction Year'] = X['Transaction Date'].dt.year\n",
    "X['Transaction Month'] = X['Transaction Date'].dt.month\n",
    "X['Transaction Day'] = X['Transaction Date'].dt.day\n",
    "X = X.drop('Transaction Date', axis=1)  # Drop the original date column after extracting features\n",
    "\n",
    "# Now apply SMOTE to the numeric data\n",
    "smote = SMOTE(random_state=42)\n",
    "X_resampled, y_resampled = smote.fit_resample(X, y)\n",
    "\n",
    "# Check the distribution after resampling\n",
    "print(y_resampled.value_counts())\n",
    "\n"
   ]
  },
  {
   "cell_type": "markdown",
   "id": "bf3906ec",
   "metadata": {},
   "source": [
    "# Feature Engineering"
   ]
  },
  {
   "cell_type": "code",
   "execution_count": 11,
   "id": "2671d85d",
   "metadata": {},
   "outputs": [
    {
     "name": "stdout",
     "output_type": "stream",
     "text": [
      "                         Transaction ID                           Customer ID  \\\n",
      "0  90023589-2ef8-43e7-807a-b4ab92fcc2a4  5d7358c2-ede9-488a-96e4-fa78a9d9d6db   \n",
      "1  3eb2e762-9525-4c33-a022-a47e3da3ec5d  0aac2ab4-f920-428a-939a-78ff9858c13d   \n",
      "2  12d58e99-92d7-46f3-8ac0-e01ac86c15ec  4d6ee059-5df1-4323-8484-2f04aae3d6b3   \n",
      "3  e9cac917-d336-4629-9baa-f8c19691cb80  d7709d08-fa3c-419c-b2fb-bc9ef2997ef9   \n",
      "4  acb39efa-d3c7-4bae-9b6c-9cda5ed79503  e505e3e6-7982-4c7f-b0b1-26a0b6d59d31   \n",
      "\n",
      "     Transaction Date  Transaction Amount Is Fraudulent  \\\n",
      "0 2024-03-05 15:53:49              231.55           Yes   \n",
      "1 2024-07-04 01:00:25             1485.69           Yes   \n",
      "2 2024-01-14 00:18:53              497.33           Yes   \n",
      "3 2023-12-09 03:06:54              287.68           Yes   \n",
      "4 2024-02-17 03:22:55              213.97            No   \n",
      "\n",
      "   Merchant_Adams-Gutierrez  Merchant_Adkins, Figueroa and Parker  \\\n",
      "0                         0                                     0   \n",
      "1                         0                                     0   \n",
      "2                         0                                     0   \n",
      "3                         0                                     0   \n",
      "4                         0                                     0   \n",
      "\n",
      "   Merchant_Allen Ltd  Merchant_Allen, Dean and Cortez  \\\n",
      "0                   0                                0   \n",
      "1                   0                                0   \n",
      "2                   0                                0   \n",
      "3                   0                                0   \n",
      "4                   0                                0   \n",
      "\n",
      "   Merchant_Anderson Group  ...  Location_Youngfurt  \\\n",
      "0                        0  ...                   0   \n",
      "1                        0  ...                   0   \n",
      "2                        0  ...                   0   \n",
      "3                        0  ...                   0   \n",
      "4                        0  ...                   0   \n",
      "\n",
      "   Transaction Type_In-Store Purchase  Transaction Type_Online Purchase  \\\n",
      "0                                   0                                 1   \n",
      "1                                   1                                 0   \n",
      "2                                   0                                 0   \n",
      "3                                   1                                 0   \n",
      "4                                   1                                 0   \n",
      "\n",
      "   Card Type_Discover  Card Type_MasterCard  Card Type_Visa  \\\n",
      "0                   0                     1               0   \n",
      "1                   1                     0               0   \n",
      "2                   0                     0               0   \n",
      "3                   0                     0               1   \n",
      "4                   1                     0               0   \n",
      "\n",
      "   Transaction Frequency  Avg Transaction Amount  Transaction Hour  \\\n",
      "0                      1                  231.55                15   \n",
      "1                      1                 1485.69                 1   \n",
      "2                      1                  497.33                 0   \n",
      "3                      1                  287.68                 3   \n",
      "4                      1                  213.97                 3   \n",
      "\n",
      "   Amount_Type_Interaction  \n",
      "0                   231.55  \n",
      "1                     0.00  \n",
      "2                     0.00  \n",
      "3                     0.00  \n",
      "4                     0.00  \n",
      "\n",
      "[5 rows x 728 columns]\n"
     ]
    }
   ],
   "source": [
    "# Convert 'Transaction Date' to datetime for easier manipulation\n",
    "dataset_encoded['Transaction Date'] = pd.to_datetime(dataset['Transaction Date'])\n",
    "\n",
    "# 1. Transaction Frequency by Customer\n",
    "# Create a feature for the number of transactions each customer has made\n",
    "transaction_frequency = dataset_encoded.groupby('Customer ID')['Transaction ID'].transform('count')\n",
    "dataset_encoded['Transaction Frequency'] = transaction_frequency\n",
    "\n",
    "# 2. Average Transaction Amount by Customer\n",
    "# Calculate the average transaction amount for each customer\n",
    "average_transaction_amount = dataset_encoded.groupby('Customer ID')['Transaction Amount'].transform('mean')\n",
    "dataset_encoded['Avg Transaction Amount'] = average_transaction_amount\n",
    "\n",
    "# 3. Time of Day\n",
    "# Extract hour from 'Transaction Date' to create a feature for the time of day\n",
    "dataset_encoded['Transaction Hour'] = dataset_encoded['Transaction Date'].dt.hour\n",
    "\n",
    "# 4. Interaction between Features (example: interaction between transaction type and transaction amount)\n",
    "dataset_encoded['Amount_Type_Interaction'] = dataset_encoded['Transaction Amount'] * dataset_encoded['Transaction Type_Online Purchase']\n",
    "\n",
    "# Check the updated dataset\n",
    "print(dataset_encoded.head())\n"
   ]
  },
  {
   "cell_type": "markdown",
   "id": "ac720549",
   "metadata": {},
   "source": [
    "# Model Building"
   ]
  },
  {
   "cell_type": "markdown",
   "id": "ead98c99",
   "metadata": {},
   "source": [
    "# Splitting the Dataset"
   ]
  },
  {
   "cell_type": "code",
   "execution_count": 12,
   "id": "e493a600",
   "metadata": {},
   "outputs": [
    {
     "name": "stdout",
     "output_type": "stream",
     "text": [
      "Training set size: (256, 725)\n",
      "Test set size: (110, 725)\n"
     ]
    }
   ],
   "source": [
    "from sklearn.model_selection import train_test_split\n",
    "\n",
    "# Split the dataset into training and testing sets\n",
    "X_train, X_test, y_train, y_test = train_test_split(X_resampled, y_resampled, test_size=0.3, random_state=42)\n",
    "\n",
    "print(f\"Training set size: {X_train.shape}\")\n",
    "print(f\"Test set size: {X_test.shape}\")\n"
   ]
  },
  {
   "cell_type": "raw",
   "id": "db71ad3c",
   "metadata": {},
   "source": [
    "#Metrics: \n",
    "We use classification metrics like precision, recall, and F1-score,with a particular focus on the AUC-ROC, \n",
    "which is crucial for imbalanced datasets."
   ]
  },
  {
   "cell_type": "code",
   "execution_count": 13,
   "id": "1f6af144",
   "metadata": {},
   "outputs": [
    {
     "name": "stdout",
     "output_type": "stream",
     "text": [
      "\n",
      "Logistic Regression Performance:\n",
      "              precision    recall  f1-score   support\n",
      "\n",
      "           0       0.59      0.48      0.53        56\n",
      "           1       0.55      0.65      0.59        54\n",
      "\n",
      "    accuracy                           0.56       110\n",
      "   macro avg       0.57      0.57      0.56       110\n",
      "weighted avg       0.57      0.56      0.56       110\n",
      "\n",
      "AUC-ROC: 0.5572089947089947\n",
      "\n",
      "\n",
      "Random Forest Performance:\n",
      "              precision    recall  f1-score   support\n",
      "\n",
      "           0       0.56      0.57      0.57        56\n",
      "           1       0.55      0.54      0.54        54\n",
      "\n",
      "    accuracy                           0.55       110\n",
      "   macro avg       0.55      0.55      0.55       110\n",
      "weighted avg       0.55      0.55      0.55       110\n",
      "\n",
      "AUC-ROC: 0.5583664021164021\n",
      "\n",
      "\n",
      "Gradient Boosting Performance:\n",
      "              precision    recall  f1-score   support\n",
      "\n",
      "           0       0.58      0.54      0.56        56\n",
      "           1       0.55      0.59      0.57        54\n",
      "\n",
      "    accuracy                           0.56       110\n",
      "   macro avg       0.56      0.56      0.56       110\n",
      "weighted avg       0.56      0.56      0.56       110\n",
      "\n",
      "AUC-ROC: 0.5342261904761905\n",
      "\n",
      "\n",
      "Support Vector Machine Performance:\n",
      "              precision    recall  f1-score   support\n",
      "\n",
      "           0       0.53      0.57      0.55        56\n",
      "           1       0.52      0.48      0.50        54\n",
      "\n",
      "    accuracy                           0.53       110\n",
      "   macro avg       0.53      0.53      0.53       110\n",
      "weighted avg       0.53      0.53      0.53       110\n",
      "\n",
      "AUC-ROC: 0.5512566137566138\n",
      "\n",
      "\n",
      "K-Nearest Neighbors Performance:\n",
      "              precision    recall  f1-score   support\n",
      "\n",
      "           0       0.48      0.52      0.50        56\n",
      "           1       0.45      0.41      0.43        54\n",
      "\n",
      "    accuracy                           0.46       110\n",
      "   macro avg       0.46      0.46      0.46       110\n",
      "weighted avg       0.46      0.46      0.46       110\n",
      "\n",
      "AUC-ROC: 0.4819775132275132\n",
      "\n"
     ]
    }
   ],
   "source": [
    "from sklearn.linear_model import LogisticRegression\n",
    "from sklearn.ensemble import RandomForestClassifier, GradientBoostingClassifier\n",
    "from sklearn.svm import SVC\n",
    "from sklearn.neighbors import KNeighborsClassifier\n",
    "from sklearn.metrics import classification_report, roc_auc_score\n",
    "\n",
    "# Initialize models\n",
    "models = {\n",
    "    \"Logistic Regression\": LogisticRegression(),\n",
    "    \"Random Forest\": RandomForestClassifier(),\n",
    "    \"Gradient Boosting\": GradientBoostingClassifier(),\n",
    "    \"Support Vector Machine\": SVC(probability=True),  # Enable probability for SVC\n",
    "    \"K-Nearest Neighbors\": KNeighborsClassifier()\n",
    "}\n",
    "\n",
    "# Train and evaluate each model\n",
    "for name, model in models.items():\n",
    "    print(f\"\\n{name} Performance:\")\n",
    "    model.fit(X_train, y_train)\n",
    "    \n",
    "    # Predictions and probabilities\n",
    "    y_pred = model.predict(X_test)\n",
    "    y_proba = model.predict_proba(X_test)[:, 1] if hasattr(model, \"predict_proba\") else None  # For AUC-ROC\n",
    "    \n",
    "    # Classification report\n",
    "    print(classification_report(y_test, y_pred))\n",
    "    \n",
    "    # AUC-ROC score\n",
    "    if y_proba is not None:\n",
    "        auc_roc = roc_auc_score(y_test, y_proba)\n",
    "        print(f\"AUC-ROC: {auc_roc}\\n\")\n",
    "    else:\n",
    "        print(\"AUC-ROC: N/A (No probability output available)\\n\")\n"
   ]
  },
  {
   "cell_type": "markdown",
   "id": "78896a27",
   "metadata": {},
   "source": [
    "# Hyperparameter Tuning"
   ]
  },
  {
   "cell_type": "code",
   "execution_count": 14,
   "id": "52ddbd18",
   "metadata": {},
   "outputs": [
    {
     "data": {
      "text/plain": [
       "{'Logistic Regression': {'C': 1, 'solver': 'liblinear'},\n",
       " 'Random Forest': {'max_depth': 10,\n",
       "  'min_samples_split': 5,\n",
       "  'n_estimators': 50},\n",
       " 'Gradient Boosting': {'learning_rate': 0.01,\n",
       "  'max_depth': 5,\n",
       "  'n_estimators': 100},\n",
       " 'Support Vector Machine': {'C': 0.1, 'kernel': 'rbf'},\n",
       " 'K-Nearest Neighbors': {'n_neighbors': 7}}"
      ]
     },
     "execution_count": 14,
     "metadata": {},
     "output_type": "execute_result"
    }
   ],
   "source": [
    "from sklearn.model_selection import GridSearchCV\n",
    "from sklearn.linear_model import LogisticRegression\n",
    "from sklearn.ensemble import RandomForestClassifier, GradientBoostingClassifier\n",
    "from sklearn.svm import SVC\n",
    "from sklearn.neighbors import KNeighborsClassifier\n",
    "\n",
    "# Hyperparameter grids\n",
    "param_grids = {\n",
    "    \"Logistic Regression\": {\n",
    "        \"C\": [0.01, 0.1, 1, 10],\n",
    "        \"solver\": [\"liblinear\"]\n",
    "    },\n",
    "    \"Random Forest\": {\n",
    "        \"n_estimators\": [50, 100, 200],\n",
    "        \"max_depth\": [None, 10, 20],\n",
    "        \"min_samples_split\": [2, 5]\n",
    "    },\n",
    "    \"Gradient Boosting\": {\n",
    "        \"n_estimators\": [50, 100, 200],\n",
    "        \"learning_rate\": [0.01, 0.1, 0.2],\n",
    "        \"max_depth\": [3, 5, 7]\n",
    "    },\n",
    "    \"Support Vector Machine\": {\n",
    "        \"C\": [0.1, 1, 10],\n",
    "        \"kernel\": [\"linear\", \"rbf\"]\n",
    "    },\n",
    "    \"K-Nearest Neighbors\": {\n",
    "        \"n_neighbors\": [3, 5, 7, 9]\n",
    "    }\n",
    "}\n",
    "\n",
    "# Initialize models\n",
    "models = {\n",
    "    \"Logistic Regression\": LogisticRegression(),\n",
    "    \"Random Forest\": RandomForestClassifier(),\n",
    "    \"Gradient Boosting\": GradientBoostingClassifier(),\n",
    "    \"Support Vector Machine\": SVC(),\n",
    "    \"K-Nearest Neighbors\": KNeighborsClassifier()\n",
    "}\n",
    "\n",
    "# Store best models and their parameters\n",
    "best_models = {}\n",
    "best_params = {}\n",
    "\n",
    "# Perform Grid Search for each model\n",
    "for name, model in models.items():\n",
    "    grid_search = GridSearchCV(model, param_grids[name], cv=5, scoring='f1', n_jobs=-1)\n",
    "    grid_search.fit(X_train, y_train)\n",
    "    best_models[name] = grid_search.best_estimator_\n",
    "    best_params[name] = grid_search.best_params_\n",
    "\n",
    "# Display best parameters for each model\n",
    "best_params"
   ]
  },
  {
   "cell_type": "markdown",
   "id": "6bbeda2a",
   "metadata": {},
   "source": [
    "# Model Evaluation and Deployment"
   ]
  },
  {
   "cell_type": "markdown",
   "id": "fa71f497",
   "metadata": {},
   "source": [
    "# Step 1: Final Model Evaluation with the Tuned Models"
   ]
  },
  {
   "cell_type": "code",
   "execution_count": 15,
   "id": "bda8ac2c",
   "metadata": {},
   "outputs": [
    {
     "name": "stdout",
     "output_type": "stream",
     "text": [
      "\n",
      "Logistic Regression Performance:\n",
      "              precision    recall  f1-score   support\n",
      "\n",
      "           0       0.64      0.54      0.58        56\n",
      "           1       0.59      0.69      0.63        54\n",
      "\n",
      "    accuracy                           0.61       110\n",
      "   macro avg       0.61      0.61      0.61       110\n",
      "weighted avg       0.61      0.61      0.61       110\n",
      "\n",
      "AUC-ROC: 0.5886243386243387\n",
      "\n",
      "\n",
      "Random Forest Performance:\n",
      "              precision    recall  f1-score   support\n",
      "\n",
      "           0       0.64      0.62      0.63        56\n",
      "           1       0.62      0.63      0.62        54\n",
      "\n",
      "    accuracy                           0.63       110\n",
      "   macro avg       0.63      0.63      0.63       110\n",
      "weighted avg       0.63      0.63      0.63       110\n",
      "\n",
      "AUC-ROC: 0.6117724867724867\n",
      "\n",
      "\n",
      "Gradient Boosting Performance:\n",
      "              precision    recall  f1-score   support\n",
      "\n",
      "           0       0.43      0.36      0.39        56\n",
      "           1       0.43      0.50      0.46        54\n",
      "\n",
      "    accuracy                           0.43       110\n",
      "   macro avg       0.43      0.43      0.42       110\n",
      "weighted avg       0.43      0.43      0.42       110\n",
      "\n",
      "AUC-ROC: 0.4403108465608465\n",
      "\n",
      "\n",
      "Support Vector Machine Performance:\n",
      "              precision    recall  f1-score   support\n",
      "\n",
      "           0       0.52      0.21      0.30        56\n",
      "           1       0.49      0.80      0.61        54\n",
      "\n",
      "    accuracy                           0.50       110\n",
      "   macro avg       0.51      0.51      0.46       110\n",
      "weighted avg       0.51      0.50      0.45       110\n",
      "\n",
      "AUC-ROC: N/A\n",
      "\n",
      "\n",
      "K-Nearest Neighbors Performance:\n",
      "              precision    recall  f1-score   support\n",
      "\n",
      "           0       0.46      0.46      0.46        56\n",
      "           1       0.43      0.43      0.43        54\n",
      "\n",
      "    accuracy                           0.45       110\n",
      "   macro avg       0.45      0.45      0.45       110\n",
      "weighted avg       0.45      0.45      0.45       110\n",
      "\n",
      "AUC-ROC: 0.4543650793650794\n",
      "\n"
     ]
    },
    {
     "data": {
      "text/plain": [
       "{'Logistic Regression': {'Precision': 0.5873015873015873,\n",
       "  'Recall': 0.6851851851851852,\n",
       "  'F1-Score': 0.6324786324786325,\n",
       "  'AUC-ROC': 0.5886243386243387},\n",
       " 'Random Forest': {'Precision': 0.6181818181818182,\n",
       "  'Recall': 0.6296296296296297,\n",
       "  'F1-Score': 0.6238532110091743,\n",
       "  'AUC-ROC': 0.6117724867724867},\n",
       " 'Gradient Boosting': {'Precision': 0.42857142857142855,\n",
       "  'Recall': 0.5,\n",
       "  'F1-Score': 0.46153846153846156,\n",
       "  'AUC-ROC': 0.4403108465608465},\n",
       " 'Support Vector Machine': {'Precision': 0.4942528735632184,\n",
       "  'Recall': 0.7962962962962963,\n",
       "  'F1-Score': 0.6099290780141844,\n",
       "  'AUC-ROC': 'N/A'},\n",
       " 'K-Nearest Neighbors': {'Precision': 0.4339622641509434,\n",
       "  'Recall': 0.42592592592592593,\n",
       "  'F1-Score': 0.42990654205607476,\n",
       "  'AUC-ROC': 0.4543650793650794}}"
      ]
     },
     "execution_count": 15,
     "metadata": {},
     "output_type": "execute_result"
    }
   ],
   "source": [
    "from sklearn.metrics import classification_report, roc_auc_score\n",
    "\n",
    "# Evaluate each best-tuned model\n",
    "evaluation_results = {}\n",
    "\n",
    "for name, model in best_models.items():\n",
    "    print(f\"\\n{name} Performance:\")\n",
    "    \n",
    "    # Predictions and probabilities\n",
    "    y_pred = model.predict(X_test)\n",
    "    y_proba = model.predict_proba(X_test)[:, 1] if hasattr(model, \"predict_proba\") else None  # AUC-ROC\n",
    "    \n",
    "    # Classification report\n",
    "    report = classification_report(y_test, y_pred, output_dict=True)\n",
    "    print(classification_report(y_test, y_pred))\n",
    "    \n",
    "    # AUC-ROC score\n",
    "    auc_roc = roc_auc_score(y_test, y_proba) if y_proba is not None else \"N/A\"\n",
    "    print(f\"AUC-ROC: {auc_roc}\\n\")\n",
    "    \n",
    "    # Store results for summary\n",
    "    evaluation_results[name] = {\n",
    "        \"Precision\": report[\"1\"][\"precision\"],\n",
    "        \"Recall\": report[\"1\"][\"recall\"],\n",
    "        \"F1-Score\": report[\"1\"][\"f1-score\"],\n",
    "        \"AUC-ROC\": auc_roc\n",
    "    }\n",
    "\n",
    "# Summary of evaluation metrics for each model\n",
    "evaluation_results\n"
   ]
  },
  {
   "cell_type": "markdown",
   "id": "2ba480c8",
   "metadata": {},
   "source": [
    "# Step 2: Selecting the Best Model"
   ]
  },
  {
   "cell_type": "code",
   "execution_count": 16,
   "id": "ea6a9c20",
   "metadata": {},
   "outputs": [
    {
     "name": "stdout",
     "output_type": "stream",
     "text": [
      "Best Model: Logistic Regression\n",
      "Performance Metrics: {'Precision': 0.5873015873015873, 'Recall': 0.6851851851851852, 'F1-Score': 0.6324786324786325, 'AUC-ROC': 0.5886243386243387}\n"
     ]
    }
   ],
   "source": [
    "# Identify the model with the best F1-Score, and if tied, use AUC-ROC as a secondary criterion\n",
    "best_model_name = max(evaluation_results, key=lambda k: (evaluation_results[k][\"F1-Score\"], evaluation_results[k][\"AUC-ROC\"]))\n",
    "\n",
    "# Display the best model's performance metrics\n",
    "best_model_performance = evaluation_results[best_model_name]\n",
    "print(f\"Best Model: {best_model_name}\")\n",
    "print(f\"Performance Metrics: {best_model_performance}\")\n"
   ]
  },
  {
   "cell_type": "markdown",
   "id": "2ddc3170",
   "metadata": {},
   "source": [
    "# Step 3: Model Deployment"
   ]
  },
  {
   "cell_type": "code",
   "execution_count": null,
   "id": "4725256b",
   "metadata": {},
   "outputs": [],
   "source": [
    "from fastapi import FastAPI\n",
    "import joblib\n",
    "import pandas as pd\n",
    "\n",
    "# Load the best model (save it first using joblib if not done)\n",
    "best_model_name = max(evaluation_results, key=lambda k: evaluation_results[k]['F1-Score'])\n",
    "joblib.dump(best_models[best_model_name], \"best_fraud_detection_model.pkl\")\n",
    "model = joblib.load(\"best_fraud_detection_model.pkl\")\n",
    "\n",
    "# Initialize FastAPI\n",
    "app = FastAPI()\n",
    "\n",
    "# Prediction endpoint\n",
    "@app.post(\"/predict\")\n",
    "async def predict(transaction_data: dict):\n",
    "    # Preprocess the input data (ensure it matches the training preprocessing)\n",
    "    df = pd.DataFrame([transaction_data])\n",
    "    # Example preprocess function to transform df as per model training pipeline\n",
    "    processed_data = preprocess(df)  # Define preprocess based on feature engineering steps\n",
    "\n",
    "    # Get prediction\n",
    "    prediction = model.predict(processed_data)\n",
    "    proba = model.predict_proba(processed_data)[:, 1] if hasattr(model, \"predict_proba\") else None\n",
    "    result = {\"fraud_prediction\": \"Fraud\" if prediction[0] == 1 else \"Legitimate\"}\n",
    "    if proba is not None:\n",
    "        result[\"fraud_probability\"] = proba[0]\n",
    "\n",
    "    return result\n"
   ]
  },
  {
   "cell_type": "markdown",
   "id": "5053764c",
   "metadata": {},
   "source": [
    "# Fraud Detection System Design"
   ]
  },
  {
   "cell_type": "markdown",
   "id": "8a3306ec",
   "metadata": {},
   "source": [
    "# Real-time Fraud Detection System"
   ]
  },
  {
   "cell_type": "code",
   "execution_count": 18,
   "id": "85648d39",
   "metadata": {},
   "outputs": [
    {
     "name": "stdout",
     "output_type": "stream",
     "text": [
      "Classes in training data: [0]\n",
      "Fraud Prediction: Not Fraud\n",
      "Fraud Probability: 1.0\n"
     ]
    }
   ],
   "source": [
    "import pandas as pd\n",
    "import numpy as np\n",
    "from sklearn.model_selection import train_test_split\n",
    "from sklearn.preprocessing import OneHotEncoder\n",
    "from sklearn.ensemble import RandomForestClassifier\n",
    "from sklearn.preprocessing import StandardScaler\n",
    "\n",
    "# Example dataset for fraud detection (you can replace it with your actual dataset)\n",
    "data = {\n",
    "    'transaction_amount': [100, 1500, 400, 200, 10000],\n",
    "    'transaction_hour': [10, 14, 22, 11, 2],  # Hour of the day (24-hour format)\n",
    "    'transaction_type': ['Online Purchase', 'In-Store Purchase', 'Online Purchase', 'ATM Withdrawal', 'Online Purchase'],\n",
    "    'card_type': ['Visa', 'MasterCard', 'Visa', 'Amex', 'Discover'],\n",
    "    'is_weekend': ['no', 'yes', 'no', 'yes', 'no'],\n",
    "    'is_fraudulent': [0, 1, 0, 0, 1]  # Labels: 1 for fraud, 0 for not fraud\n",
    "}\n",
    "\n",
    "df = pd.DataFrame(data)\n",
    "\n",
    "# --- 1. Preprocessing the dataset ---\n",
    "# Convert categorical variables using OneHotEncoder\n",
    "encoder = OneHotEncoder(drop='first', sparse_output=False)\n",
    "categorical_cols = ['transaction_type', 'card_type', 'is_weekend']\n",
    "encoded_data = encoder.fit_transform(df[categorical_cols])\n",
    "\n",
    "# Convert the encoded columns back to DataFrame\n",
    "encoded_df = pd.DataFrame(encoded_data, columns=encoder.get_feature_names_out(categorical_cols))\n",
    "\n",
    "# Scale the numerical features\n",
    "scaler = StandardScaler()\n",
    "numerical_cols = ['transaction_amount', 'transaction_hour']\n",
    "scaled_data = scaler.fit_transform(df[numerical_cols])\n",
    "\n",
    "# Convert the scaled numerical columns back to DataFrame\n",
    "scaled_df = pd.DataFrame(scaled_data, columns=numerical_cols)\n",
    "\n",
    "# Concatenate the numerical and categorical data\n",
    "processed_df = pd.concat([scaled_df, encoded_df], axis=1)\n",
    "\n",
    "# Define the target variable (is_fraudulent)\n",
    "X = processed_df\n",
    "y = df['is_fraudulent']\n",
    "\n",
    "# --- 2. Train a simple model (Random Forest) ---\n",
    "# Split the data into training and testing sets\n",
    "X_train, X_test, y_train, y_test = train_test_split(X, y, test_size=0.3, random_state=42)\n",
    "\n",
    "# Ensure both classes (0 and 1) are in y_train\n",
    "print(\"Classes in training data:\", np.unique(y_train))  # This ensures that we have both 0 and 1 in y_train\n",
    "\n",
    "# Train the model\n",
    "model = RandomForestClassifier(random_state=42)\n",
    "model.fit(X_train, y_train)\n",
    "\n",
    "# --- 3. Make Predictions for a New Transaction ---\n",
    "# Example: New transaction data\n",
    "new_transaction_features = {\n",
    "    'transaction_amount': [500],\n",
    "    'transaction_hour': [14],\n",
    "    'transaction_type': ['Online Purchase'],\n",
    "    'card_type': ['Visa'],\n",
    "    'is_weekend': ['no']\n",
    "}\n",
    "\n",
    "# Convert the new transaction features to DataFrame\n",
    "new_transaction_df = pd.DataFrame(new_transaction_features)\n",
    "\n",
    "# Apply the same preprocessing steps to the new data\n",
    "# Encode the categorical features\n",
    "new_encoded_data = encoder.transform(new_transaction_df[categorical_cols])\n",
    "new_encoded_df = pd.DataFrame(new_encoded_data, columns=encoder.get_feature_names_out(categorical_cols))\n",
    "\n",
    "# Scale the numerical features\n",
    "new_scaled_data = scaler.transform(new_transaction_df[numerical_cols])\n",
    "new_scaled_df = pd.DataFrame(new_scaled_data, columns=numerical_cols)\n",
    "\n",
    "# Concatenate the numerical and categorical data for the new transaction\n",
    "new_transaction_processed = pd.concat([new_scaled_df, new_encoded_df], axis=1)\n",
    "\n",
    "# Make predictions using the trained model\n",
    "fraud_prediction = model.predict(new_transaction_processed)\n",
    "\n",
    "# Predict probabilities\n",
    "fraud_probability = model.predict_proba(new_transaction_processed)\n",
    "\n",
    "# Check the shape of the predicted probabilities\n",
    "if fraud_probability.shape[1] == 2:  # Check if there are two columns for probabilities\n",
    "    fraud_probability = fraud_probability[:, 1]  # Get probability for fraud class (1)\n",
    "else:\n",
    "    fraud_probability = fraud_probability[:, 0]  # Handle edge case if only one column is present\n",
    "\n",
    "# Output the result\n",
    "print(\"Fraud Prediction:\", \"Fraud\" if fraud_prediction[0] == 1 else \"Not Fraud\")\n",
    "print(\"Fraud Probability:\", fraud_probability[0])\n"
   ]
  },
  {
   "cell_type": "markdown",
   "id": "6df06b17",
   "metadata": {},
   "source": [
    "# Visualization"
   ]
  },
  {
   "cell_type": "code",
   "execution_count": 22,
   "id": "0af71d90",
   "metadata": {},
   "outputs": [
    {
     "data": {
      "text/plain": [
       "<Figure size 864x432 with 0 Axes>"
      ]
     },
     "metadata": {},
     "output_type": "display_data"
    },
    {
     "data": {
      "image/png": "[encoded data removed]",
      "text/plain": [
       "<Figure size 432x288 with 1 Axes>"
      ]
     },
     "metadata": {},
     "output_type": "display_data"
    },
    {
     "data": {
      "image/png": "[encoded data removed]",
      "text/plain": [
       "<Figure size 1296x432 with 3 Axes>"
      ]
     },
     "metadata": {},
     "output_type": "display_data"
    }
   ],
   "source": [
    "import matplotlib.pyplot as plt\n",
    "import seaborn as sns\n",
    "import pandas as pd\n",
    "\n",
    "# Convert the evaluation results to a DataFrame\n",
    "results_df = pd.DataFrame(evaluation_results).T  # Transpose to have models as rows\n",
    "\n",
    "# Bar plot for F1-Score and AUC-ROC\n",
    "plt.figure(figsize=(12, 6))\n",
    "results_df[['F1-Score', 'AUC-ROC']].plot(kind='bar', color=['skyblue', 'salmon'], edgecolor='black')\n",
    "plt.title(\"F1-Score and AUC-ROC Comparison Across Models\")\n",
    "plt.xlabel(\"Model\")\n",
    "plt.ylabel(\"Score\")\n",
    "plt.ylim(0, 1)\n",
    "plt.legend(title=\"Metric\")\n",
    "plt.xticks(rotation=45)\n",
    "plt.show()\n",
    "\n",
    "# Optional: Display Precision, Recall, F1-Score with separate subplots\n",
    "fig, axes = plt.subplots(1, 3, figsize=(18, 6), sharey=True)\n",
    "metrics = ['Precision', 'Recall', 'F1-Score',]\n",
    "\n",
    "for i, metric in enumerate(metrics):\n",
    "    sns.barplot(x=results_df.index, y=results_df[metric], ax=axes[i], palette=\"viridis\")\n",
    "    axes[i].set_title(f\"{metric} Across Models\")\n",
    "    axes[i].set_ylim(0, 1)\n",
    "    axes[i].set_xlabel(\"Model\")\n",
    "    axes[i].set_ylabel(\"Score\")\n",
    "\n",
    "plt.tight_layout()\n",
    "plt.show()\n"
   ]
  },
  {
   "cell_type": "code",
   "execution_count": 24,
   "id": "c78b2ec1",
   "metadata": {
    "scrolled": true
   },
   "outputs": [
    {
     "data": {
      "image/png": "[encoded data removed]",
      "text/plain": [
       "<Figure size 1440x288 with 5 Axes>"
      ]
     },
     "metadata": {},
     "output_type": "display_data"
    }
   ],
   "source": [
    "import numpy as np\n",
    "import seaborn as sns\n",
    "\n",
    "# Example confusion matrices, replace with your model's actual confusion matrices\n",
    "conf_matrices = {\n",
    "    \"Logistic Regression\": np.array([[40, 16], [19, 35]]),\n",
    "    \"Random Forest\": np.array([[45, 11], [17, 37]]),\n",
    "    \"Gradient Boosting\": np.array([[42, 14], [15, 39]]),\n",
    "    \"Support Vector Machine\": np.array([[38, 18], [21, 33]]),\n",
    "    \"K-Nearest Neighbors\": np.array([[36, 20], [20, 34]])\n",
    "}\n",
    "\n",
    "fig, axes = plt.subplots(1, 5, figsize=(20, 4))\n",
    "for idx, (model, cm) in enumerate(conf_matrices.items()):\n",
    "    sns.heatmap(cm, annot=True, fmt=\"d\", cmap=\"Blues\", ax=axes[idx], cbar=False)\n",
    "    axes[idx].set_title(f\"{model} Confusion Matrix\")\n",
    "    axes[idx].set_xlabel(\"Predicted\")\n",
    "    axes[idx].set_ylabel(\"Actual\")\n",
    "\n",
    "plt.tight_layout()\n",
    "plt.show()\n"
   ]
  },
  {
   "cell_type": "code",
   "execution_count": null,
   "id": "65ccee72",
   "metadata": {},
   "outputs": [],
   "source": []
  }
 ],
 "metadata": {
  "kernelspec": {
   "display_name": "Python 3 (ipykernel)",
   "language": "python",
   "name": "python3"
  },
  "language_info": {
   "codemirror_mode": {
    "name": "ipython",
    "version": 3
   },
   "file_extension": ".py",
   "mimetype": "text/x-python",
   "name": "python",
   "nbconvert_exporter": "python",
   "pygments_lexer": "ipython3",
   "version": "3.9.7"
  }
 },
 "nbformat": 4,
 "nbformat_minor": 5
}
